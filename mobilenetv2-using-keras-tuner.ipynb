{
  "cells": [
    {
      "cell_type": "markdown",
      "metadata": {
        "id": "lApPo41WUBOE"
      },
      "source": [
        "Nilai yang dicari menggunakan Keras Tuner adalah:\n",
        "- learning rate ✅\n",
        "- epoch ✅\n",
        "- steps per epoch ✅\n",
        "- validation steps ✅"
      ]
    },
    {
      "cell_type": "markdown",
      "metadata": {
        "id": "zTf2dFxHFLSD"
      },
      "source": [
        "#install dan import Libraries"
      ]
    },
    {
      "cell_type": "code",
      "execution_count": null,
      "metadata": {
        "colab": {
          "base_uri": "https://localhost:8080/"
        },
        "id": "xGS0RW_EzNmN",
        "outputId": "1fedc280-2171-494b-8d8b-0346fdd1ccc8"
      },
      "outputs": [
        {
          "output_type": "stream",
          "name": "stdout",
          "text": [
            "Collecting keras-tuner\n",
            "  Downloading keras_tuner-1.4.6-py3-none-any.whl (128 kB)\n",
            "\u001b[2K     \u001b[90m━━━━━━━━━━━━━━━━━━━━━━━━━━━━━━━━━━━━━━━━\u001b[0m \u001b[32m128.9/128.9 kB\u001b[0m \u001b[31m1.5 MB/s\u001b[0m eta \u001b[36m0:00:00\u001b[0m\n",
            "\u001b[?25hRequirement already satisfied: keras in /usr/local/lib/python3.10/dist-packages (from keras-tuner) (2.15.0)\n",
            "Requirement already satisfied: packaging in /usr/local/lib/python3.10/dist-packages (from keras-tuner) (23.2)\n",
            "Requirement already satisfied: requests in /usr/local/lib/python3.10/dist-packages (from keras-tuner) (2.31.0)\n",
            "Collecting kt-legacy (from keras-tuner)\n",
            "  Downloading kt_legacy-1.0.5-py3-none-any.whl (9.6 kB)\n",
            "Requirement already satisfied: charset-normalizer<4,>=2 in /usr/local/lib/python3.10/dist-packages (from requests->keras-tuner) (3.3.2)\n",
            "Requirement already satisfied: idna<4,>=2.5 in /usr/local/lib/python3.10/dist-packages (from requests->keras-tuner) (3.6)\n",
            "Requirement already satisfied: urllib3<3,>=1.21.1 in /usr/local/lib/python3.10/dist-packages (from requests->keras-tuner) (2.0.7)\n",
            "Requirement already satisfied: certifi>=2017.4.17 in /usr/local/lib/python3.10/dist-packages (from requests->keras-tuner) (2023.11.17)\n",
            "Installing collected packages: kt-legacy, keras-tuner\n",
            "Successfully installed keras-tuner-1.4.6 kt-legacy-1.0.5\n"
          ]
        }
      ],
      "source": [
        "#install Keras Tuner\n",
        "!pip install keras-tuner"
      ]
    },
    {
      "cell_type": "code",
      "execution_count": null,
      "metadata": {
        "id": "RtijUZttv9Y3"
      },
      "outputs": [],
      "source": [
        "import tensorflow as tf\n",
        "from tensorflow import keras\n",
        "from tensorflow.keras import layers\n",
        "import keras_tuner as kt\n",
        "from keras_tuner.tuners import RandomSearch\n",
        "from tensorflow.keras.models import Model\n",
        "from tensorflow.keras.applications import MobileNetV2\n",
        "from tensorflow.keras.layers import Dense, GlobalAveragePooling2D\n",
        "from tensorflow.keras.optimizers import Adam\n",
        "from tensorflow.keras.preprocessing.image import ImageDataGenerator"
      ]
    },
    {
      "cell_type": "markdown",
      "metadata": {
        "id": "BZ1n1QKpFSLT"
      },
      "source": [
        "#Load Dataset"
      ]
    },
    {
      "cell_type": "code",
      "execution_count": null,
      "metadata": {
        "colab": {
          "base_uri": "https://localhost:8080/"
        },
        "id": "q-cVTIW9wQJw",
        "outputId": "432e53b2-96d3-43e9-fbf4-770461db7d9d"
      },
      "outputs": [
        {
          "output_type": "stream",
          "name": "stdout",
          "text": [
            "Mounted at /content/drive\n"
          ]
        }
      ],
      "source": [
        "# connect GOOGLE DRIVE\n",
        "from google.colab import drive\n",
        "drive.mount('/content/drive')"
      ]
    },
    {
      "cell_type": "code",
      "execution_count": null,
      "metadata": {
        "id": "pDo2GbyRwR8R"
      },
      "outputs": [],
      "source": [
        "train_path = '/content/drive/MyDrive/Colab Notebooks/db-kck-rgb/tanpa-augmentasi/train'\n",
        "valid_path = '/content/drive/MyDrive/Colab Notebooks/db-kck-rgb/tanpa-augmentasi/valid'\n",
        "test_path = '/content/drive/MyDrive/Colab Notebooks/db-kck-rgb/tanpa-augmentasi/test'"
      ]
    },
    {
      "cell_type": "code",
      "execution_count": null,
      "metadata": {
        "colab": {
          "base_uri": "https://localhost:8080/"
        },
        "id": "M57bp9jf0ZDN",
        "outputId": "a8b556f8-4378-4aab-e96e-3b1683177619"
      },
      "outputs": [
        {
          "output_type": "stream",
          "name": "stdout",
          "text": [
            "Found 415 images belonging to 3 classes.\n",
            "Found 114 images belonging to 3 classes.\n",
            "Found 57 images belonging to 3 classes.\n"
          ]
        }
      ],
      "source": [
        "# Membuat generator data pelatihan dan validasi\n",
        "train_generator = ImageDataGenerator(preprocessing_function=keras.applications.mobilenet_v2.preprocess_input).flow_from_directory(\n",
        "    train_path, target_size=(224,224), batch_size=10, class_mode='categorical')\n",
        "valid_generator = ImageDataGenerator(preprocessing_function=keras.applications.mobilenet_v2.preprocess_input).flow_from_directory(\n",
        "    valid_path, target_size=(224,224), batch_size=10, class_mode='categorical')\n",
        "test_generator = ImageDataGenerator(preprocessing_function=keras.applications.mobilenet_v2.preprocess_input).flow_from_directory(\n",
        "    test_path, target_size=(224,224), batch_size=10, shuffle=False, class_mode='categorical')"
      ]
    },
    {
      "cell_type": "markdown",
      "metadata": {
        "id": "xIoC0hcQFVeS"
      },
      "source": [
        "#Define the model"
      ]
    },
    {
      "cell_type": "code",
      "execution_count": null,
      "metadata": {
        "id": "jD8ZoI8Tlyd5"
      },
      "outputs": [],
      "source": [
        "def model_build(hp):\n",
        "  # Create MobileNetV2 dan add dense layer (3)\n",
        "  mobile = MobileNetV2(weights='imagenet')\n",
        "  x = mobile.layers[-1].output\n",
        "  predictions = Dense(3, activation='softmax')(x)\n",
        "  model = Model(inputs=mobile.input, outputs=predictions)\n",
        "\n",
        "  # Tune the learning rate for the optimizer\n",
        "  hp_learning_rate = hp.Choice('learning_rate', values=[1e-3, 1e-4, 1e-5])\n",
        "\n",
        "  # Tune steps_per_epoch and validation_steps\n",
        "  hp_steps_per_epoch = hp.Int('steps_per_epoch', min_value=37, max_value=57, step=5)\n",
        "  hp_validation_steps = hp.Int('validation_steps', min_value=10, max_value=16, step=2)\n",
        "\n",
        "  model.compile(optimizer=keras.optimizers.Adam(learning_rate=hp_learning_rate),\n",
        "                loss='categorical_crossentropy',\n",
        "                metrics=['accuracy'])\n",
        "\n",
        "  return model"
      ]
    },
    {
      "cell_type": "code",
      "execution_count": null,
      "metadata": {
        "id": "kUqt3VcznYom",
        "colab": {
          "base_uri": "https://localhost:8080/"
        },
        "outputId": "d72317cb-81cf-4f1c-beb9-1f4c22ea3bbf"
      },
      "outputs": [
        {
          "output_type": "stream",
          "name": "stdout",
          "text": [
            "Downloading data from https://storage.googleapis.com/tensorflow/keras-applications/mobilenet_v2/mobilenet_v2_weights_tf_dim_ordering_tf_kernels_1.0_224.h5\n",
            "14536120/14536120 [==============================] - 2s 0us/step\n"
          ]
        }
      ],
      "source": [
        "# Instantiate the tuner and perform hypertuning\n",
        "tuner = kt.Hyperband(model_build,\n",
        "                     objective='val_accuracy',\n",
        "                     max_epochs=5,\n",
        "                     factor=2,\n",
        "                     directory='my_dir',\n",
        "                     project_name='fdefect_detection')"
      ]
    },
    {
      "cell_type": "code",
      "execution_count": null,
      "metadata": {
        "id": "BU77YBEan3R2"
      },
      "outputs": [],
      "source": [
        "stop_early = tf.keras.callbacks.EarlyStopping(monitor='val_loss', patience=5)"
      ]
    },
    {
      "cell_type": "code",
      "execution_count": null,
      "metadata": {
        "colab": {
          "base_uri": "https://localhost:8080/"
        },
        "id": "o2d_Ywu9n-8d",
        "outputId": "dd21de36-20b0-45bc-fe53-2e58f04fbf80"
      },
      "outputs": [
        {
          "output_type": "stream",
          "name": "stdout",
          "text": [
            "Trial 21 Complete [00h 00m 49s]\n",
            "val_accuracy: 0.44736841320991516\n",
            "\n",
            "Best val_accuracy So Far: 0.9210526347160339\n",
            "Total elapsed time: 00h 19m 32s\n",
            "\n",
            "The hyperparameter search is complete. The optimal learning rate for the optimizer is 0.0001.\n",
            "\n"
          ]
        }
      ],
      "source": [
        "tuner.search(train_generator, validation_data=valid_generator, epochs=35, callbacks=[stop_early])\n",
        "\n",
        "# Get the optimal hyperparameters\n",
        "best_hps=tuner.get_best_hyperparameters(num_trials=1)[0]\n",
        "\n",
        "print(f\"\"\"\n",
        "The hyperparameter search is complete. The optimal learning rate for the optimizer is {best_hps.get('learning_rate')}.\n",
        "\"\"\")\n"
      ]
    },
    {
      "cell_type": "code",
      "source": [
        "# Mengambil nilai hyperparameter terbaik\n",
        "best_learning_rate = best_hps.get('learning_rate')\n",
        "best_steps_per_epoch = best_hps.get('steps_per_epoch')\n",
        "best_validation_steps = best_hps.get('validation_steps')\n",
        "\n",
        "# Menampilkan hasil\n",
        "print(f\"Best learning_rate: {best_learning_rate}\")\n",
        "print(f\"Best steps_per_epoch: {best_steps_per_epoch}\")\n",
        "print(f\"Best validation_steps: {best_validation_steps}\")"
      ],
      "metadata": {
        "id": "koA-_2aYE5SN",
        "colab": {
          "base_uri": "https://localhost:8080/"
        },
        "outputId": "0e8533de-5b02-421e-b9a4-c3e57f6e6069"
      },
      "execution_count": null,
      "outputs": [
        {
          "output_type": "stream",
          "name": "stdout",
          "text": [
            "Best learning_rate: 0.0001\n",
            "Best steps_per_epoch: 42\n",
            "Best validation_steps: 12\n"
          ]
        }
      ]
    },
    {
      "cell_type": "markdown",
      "metadata": {
        "id": "tKSKP0IkOyAI"
      },
      "source": [
        "Ini adalah batas sesi 1 Colab. Sesi berakhir karena mengalami \"crashed\" akibat keterbatasan RAM yang tersedia. Disarankan untuk menggunakan Colab Pro."
      ]
    },
    {
      "cell_type": "markdown",
      "source": [
        "# SESI 2 -> training menggunakan nilai best hps()"
      ],
      "metadata": {
        "id": "S7fdIcC5YpVI"
      }
    },
    {
      "cell_type": "markdown",
      "source": [
        "*   Best val_accuracy So Far: 0.9210526347160339\n",
        "*   Total elapsed time: 00h 19m 32s\n",
        "\n",
        "\n",
        "Berikut nilai best hps() dari sesi 1 Colab:\n",
        "*   Best learning_rate: 0.0001\n",
        "*   Best steps_per_epoch: 42\n",
        "*   Best validation_steps: 12"
      ],
      "metadata": {
        "id": "x8VlWQzpkltP"
      }
    },
    {
      "cell_type": "markdown",
      "source": [
        "Pada sesi kedua ini akan menggunakan nilai learning rate, steps per epoch dan validation steps yang didapatkan pada Sesi 1.\n",
        "Kemudian pada sesi kedua ini akan dilakukan pencarian nilai epoch terbaik."
      ],
      "metadata": {
        "id": "b00bWOY9kfTe"
      }
    },
    {
      "cell_type": "code",
      "source": [
        "def model_build(hp):\n",
        "  # Create MobileNetV2 dan add dense layer (3)\n",
        "  mobile = MobileNetV2(weights='imagenet')\n",
        "  x = mobile.layers[-1].output\n",
        "  predictions = Dense(3, activation='softmax')(x)\n",
        "  model = Model(inputs=mobile.input, outputs=predictions)\n",
        "\n",
        "  # Tune the number of epochs\n",
        "  hp_epochs = hp.Int('epochs', min_value=10, max_value=40, step=5)\n",
        "\n",
        "  model.compile(optimizer=keras.optimizers.Adam(learning_rate=0.0001),\n",
        "         loss='categorical_crossentropy',\n",
        "         metrics=['accuracy'])\n",
        "\n",
        "  return model"
      ],
      "metadata": {
        "id": "a4lE9JZhYo4e"
      },
      "execution_count": null,
      "outputs": []
    },
    {
      "cell_type": "code",
      "source": [
        "# Instantiate the tuner and perform hypertuning\n",
        "tuner = kt.Hyperband(model_build,\n",
        "                     objective='val_accuracy',\n",
        "                     max_epochs=30,\n",
        "                     factor=3,\n",
        "                     directory='my_dir',\n",
        "                     project_name='my_project3')"
      ],
      "metadata": {
        "id": "lnPCyskQ-NdI"
      },
      "execution_count": null,
      "outputs": []
    },
    {
      "cell_type": "code",
      "execution_count": null,
      "metadata": {
        "id": "u0zl-I93I46e"
      },
      "outputs": [],
      "source": [
        "stop_early = tf.keras.callbacks.EarlyStopping(monitor='val_loss', patience=5)"
      ]
    },
    {
      "cell_type": "code",
      "source": [
        "tuner.search(train_generator, validation_data=valid_generator, epochs=35, callbacks=[stop_early])"
      ],
      "metadata": {
        "colab": {
          "base_uri": "https://localhost:8080/"
        },
        "id": "ZIXwl-crNtTJ",
        "outputId": "00f714af-43e9-4531-fe9c-4b9c4f4385bd"
      },
      "execution_count": null,
      "outputs": [
        {
          "output_type": "stream",
          "name": "stdout",
          "text": [
            "Trial 7 Complete [00h 00m 40s]\n",
            "val_accuracy: 0.8421052694320679\n",
            "\n",
            "Best val_accuracy So Far: 0.8421052694320679\n",
            "Total elapsed time: 00h 04m 41s\n"
          ]
        }
      ]
    },
    {
      "cell_type": "code",
      "source": [
        "# Mengambil nilai hyperparameter terbaik\n",
        "best_hps=tuner.get_best_hyperparameters(num_trials=1)[0]\n",
        "\n",
        "best_epochs = best_hps.get('epochs')\n",
        "\n",
        "# Menampilkan hasil\n",
        "print(f\"Best epochs: {best_epochs}\")"
      ],
      "metadata": {
        "colab": {
          "base_uri": "https://localhost:8080/"
        },
        "id": "mX-4Lev9O4oV",
        "outputId": "fd06f131-3961-4d0a-dad0-ece358377ab8"
      },
      "execution_count": null,
      "outputs": [
        {
          "output_type": "stream",
          "name": "stdout",
          "text": [
            "Best epochs: 40\n"
          ]
        }
      ]
    },
    {
      "cell_type": "code",
      "source": [
        "best_model = model_build(best_hps)"
      ],
      "metadata": {
        "id": "FxnJRSNoPal5"
      },
      "execution_count": null,
      "outputs": []
    },
    {
      "cell_type": "code",
      "source": [
        "# Retrain the model (menggunakan best_epoch)\n",
        "history = best_model.fit(train_generator, validation_data=valid_generator, epochs=best_epochs,\n",
        "               steps_per_epoch=42, validation_steps=12)"
      ],
      "metadata": {
        "colab": {
          "base_uri": "https://localhost:8080/"
        },
        "id": "cnUxsaWiGlbE",
        "outputId": "cff59d4c-a88f-4716-eb16-be50077471b7"
      },
      "execution_count": null,
      "outputs": [
        {
          "output_type": "stream",
          "name": "stdout",
          "text": [
            "Epoch 1/40\n",
            "42/42 [==============================] - 32s 132ms/step - loss: 1.0892 - accuracy: 0.6554 - val_loss: 1.0932 - val_accuracy: 0.4474\n",
            "Epoch 2/40\n",
            "42/42 [==============================] - 4s 102ms/step - loss: 1.0550 - accuracy: 0.8410 - val_loss: 1.0554 - val_accuracy: 0.8246\n",
            "Epoch 3/40\n",
            "42/42 [==============================] - 4s 86ms/step - loss: 1.0316 - accuracy: 0.8988 - val_loss: 1.0753 - val_accuracy: 0.4912\n",
            "Epoch 4/40\n",
            "42/42 [==============================] - 5s 113ms/step - loss: 1.0153 - accuracy: 0.9518 - val_loss: 1.0772 - val_accuracy: 0.4386\n",
            "Epoch 5/40\n",
            "42/42 [==============================] - 6s 140ms/step - loss: 1.0108 - accuracy: 0.9422 - val_loss: 1.0529 - val_accuracy: 0.5789\n",
            "Epoch 6/40\n",
            "42/42 [==============================] - 5s 123ms/step - loss: 1.0027 - accuracy: 0.9566 - val_loss: 1.0168 - val_accuracy: 0.9035\n",
            "Epoch 7/40\n",
            "42/42 [==============================] - 4s 95ms/step - loss: 1.0012 - accuracy: 0.9301 - val_loss: 1.0352 - val_accuracy: 0.8070\n",
            "Epoch 8/40\n",
            "42/42 [==============================] - 4s 102ms/step - loss: 0.9924 - accuracy: 0.9542 - val_loss: 1.0151 - val_accuracy: 0.8860\n",
            "Epoch 9/40\n",
            "42/42 [==============================] - 4s 106ms/step - loss: 0.9845 - accuracy: 0.9663 - val_loss: 1.0232 - val_accuracy: 0.7719\n",
            "Epoch 10/40\n",
            "42/42 [==============================] - 4s 86ms/step - loss: 0.9815 - accuracy: 0.9542 - val_loss: 1.0030 - val_accuracy: 0.8421\n",
            "Epoch 11/40\n",
            "42/42 [==============================] - 4s 102ms/step - loss: 0.9752 - accuracy: 0.9639 - val_loss: 1.0079 - val_accuracy: 0.8684\n",
            "Epoch 12/40\n",
            "42/42 [==============================] - 5s 116ms/step - loss: 0.9668 - accuracy: 0.9759 - val_loss: 1.0019 - val_accuracy: 0.8421\n",
            "Epoch 13/40\n",
            "42/42 [==============================] - 4s 87ms/step - loss: 0.9607 - accuracy: 0.9855 - val_loss: 0.9900 - val_accuracy: 0.8509\n",
            "Epoch 14/40\n",
            "42/42 [==============================] - 4s 86ms/step - loss: 0.9583 - accuracy: 0.9735 - val_loss: 0.9914 - val_accuracy: 0.8333\n",
            "Epoch 15/40\n",
            "42/42 [==============================] - 4s 97ms/step - loss: 0.9496 - accuracy: 0.9904 - val_loss: 0.9865 - val_accuracy: 0.8333\n",
            "Epoch 16/40\n",
            "42/42 [==============================] - 4s 99ms/step - loss: 0.9473 - accuracy: 0.9831 - val_loss: 0.9984 - val_accuracy: 0.7807\n",
            "Epoch 17/40\n",
            "42/42 [==============================] - 4s 87ms/step - loss: 0.9487 - accuracy: 0.9542 - val_loss: 0.9960 - val_accuracy: 0.7632\n",
            "Epoch 18/40\n",
            "42/42 [==============================] - 4s 102ms/step - loss: 0.9475 - accuracy: 0.9470 - val_loss: 1.0202 - val_accuracy: 0.6754\n",
            "Epoch 19/40\n",
            "42/42 [==============================] - 4s 91ms/step - loss: 0.9401 - accuracy: 0.9566 - val_loss: 0.9424 - val_accuracy: 0.9474\n",
            "Epoch 20/40\n",
            "42/42 [==============================] - 4s 87ms/step - loss: 0.9340 - accuracy: 0.9663 - val_loss: 0.9757 - val_accuracy: 0.8070\n",
            "Epoch 21/40\n",
            "42/42 [==============================] - 4s 104ms/step - loss: 0.9244 - accuracy: 0.9807 - val_loss: 0.9770 - val_accuracy: 0.7982\n",
            "Epoch 22/40\n",
            "42/42 [==============================] - 4s 88ms/step - loss: 0.9254 - accuracy: 0.9614 - val_loss: 0.9514 - val_accuracy: 0.8684\n",
            "Epoch 23/40\n",
            "42/42 [==============================] - 4s 86ms/step - loss: 0.9127 - accuracy: 0.9904 - val_loss: 0.9646 - val_accuracy: 0.8246\n",
            "Epoch 24/40\n",
            "42/42 [==============================] - 5s 112ms/step - loss: 0.9089 - accuracy: 0.9880 - val_loss: 0.9651 - val_accuracy: 0.8070\n",
            "Epoch 25/40\n",
            "42/42 [==============================] - 4s 85ms/step - loss: 0.9044 - accuracy: 0.9880 - val_loss: 0.9615 - val_accuracy: 0.8070\n",
            "Epoch 26/40\n",
            "42/42 [==============================] - 4s 89ms/step - loss: 0.9032 - accuracy: 0.9759 - val_loss: 0.9859 - val_accuracy: 0.7281\n",
            "Epoch 27/40\n",
            "42/42 [==============================] - 5s 113ms/step - loss: 0.9017 - accuracy: 0.9639 - val_loss: 0.9625 - val_accuracy: 0.7807\n",
            "Epoch 28/40\n",
            "42/42 [==============================] - 4s 86ms/step - loss: 0.8997 - accuracy: 0.9590 - val_loss: 0.9331 - val_accuracy: 0.8596\n",
            "Epoch 29/40\n",
            "42/42 [==============================] - 4s 87ms/step - loss: 0.8919 - accuracy: 0.9735 - val_loss: 0.9521 - val_accuracy: 0.7982\n",
            "Epoch 30/40\n",
            "42/42 [==============================] - 5s 115ms/step - loss: 0.8827 - accuracy: 0.9880 - val_loss: 0.9118 - val_accuracy: 0.9035\n",
            "Epoch 31/40\n",
            "42/42 [==============================] - 5s 106ms/step - loss: 0.8770 - accuracy: 0.9904 - val_loss: 0.9069 - val_accuracy: 0.9123\n",
            "Epoch 32/40\n",
            "42/42 [==============================] - 4s 87ms/step - loss: 0.8754 - accuracy: 0.9831 - val_loss: 0.8785 - val_accuracy: 0.9737\n",
            "Epoch 33/40\n",
            "42/42 [==============================] - 5s 112ms/step - loss: 0.8670 - accuracy: 0.9904 - val_loss: 0.8849 - val_accuracy: 0.9561\n",
            "Epoch 34/40\n",
            "42/42 [==============================] - 4s 88ms/step - loss: 0.8663 - accuracy: 0.9831 - val_loss: 0.8846 - val_accuracy: 0.9386\n",
            "Epoch 35/40\n",
            "42/42 [==============================] - 4s 87ms/step - loss: 0.8596 - accuracy: 0.9904 - val_loss: 0.8730 - val_accuracy: 0.9649\n",
            "Epoch 36/40\n",
            "42/42 [==============================] - 5s 119ms/step - loss: 0.8559 - accuracy: 0.9880 - val_loss: 0.8546 - val_accuracy: 0.9912\n",
            "Epoch 37/40\n",
            "42/42 [==============================] - 4s 86ms/step - loss: 0.8549 - accuracy: 0.9807 - val_loss: 0.8641 - val_accuracy: 0.9561\n",
            "Epoch 38/40\n",
            "42/42 [==============================] - 4s 89ms/step - loss: 0.8486 - accuracy: 0.9855 - val_loss: 0.8642 - val_accuracy: 0.9474\n",
            "Epoch 39/40\n",
            "42/42 [==============================] - 5s 113ms/step - loss: 0.8456 - accuracy: 0.9855 - val_loss: 0.8408 - val_accuracy: 0.9912\n",
            "Epoch 40/40\n",
            "42/42 [==============================] - 4s 86ms/step - loss: 0.8448 - accuracy: 0.9759 - val_loss: 0.8545 - val_accuracy: 0.9561\n"
          ]
        }
      ]
    },
    {
      "cell_type": "code",
      "source": [
        "#Evaluasi model menggunakan data uji\n",
        "eval_result = best_model.evaluate(test_generator)\n",
        "print(\"[test loss, test accuracy]:\", eval_result)"
      ],
      "metadata": {
        "colab": {
          "base_uri": "https://localhost:8080/"
        },
        "id": "LIvFZXoaH8MD",
        "outputId": "1e467205-1601-44e2-9bcd-aa5de182633c"
      },
      "execution_count": null,
      "outputs": [
        {
          "output_type": "stream",
          "name": "stdout",
          "text": [
            "6/6 [==============================] - 18s 3s/step - loss: 0.8446 - accuracy: 0.9825\n",
            "[test loss, test accuracy]: [0.8445785045623779, 0.9824561476707458]\n"
          ]
        }
      ]
    },
    {
      "cell_type": "markdown",
      "metadata": {
        "id": "A9qdk7NaKE12"
      },
      "source": [
        "#Grafik hasil training dan validation"
      ]
    },
    {
      "cell_type": "code",
      "execution_count": null,
      "metadata": {
        "id": "dMcSbZGBJ9X0",
        "colab": {
          "base_uri": "https://localhost:8080/",
          "height": 410
        },
        "outputId": "04707d5f-3da8-40ad-9078-9cfa0509ccf2"
      },
      "outputs": [
        {
          "output_type": "display_data",
          "data": {
            "text/plain": [
              "<Figure size 1200x400 with 2 Axes>"
            ],
            "image/png": "[encoded data removed]"
          },
          "metadata": {}
        }
      ],
      "source": [
        "import matplotlib.pyplot as plt\n",
        "\n",
        "# Mendapatkan histori pelatihan dari hypermodel\n",
        "train_acc = history.history['accuracy']\n",
        "val_acc = history.history['val_accuracy']\n",
        "train_loss = history.history['loss']\n",
        "val_loss = history.history['val_loss']\n",
        "\n",
        "# Plotting akurasi pelatihan dan validasi\n",
        "plt.figure(figsize=(12, 4))\n",
        "plt.subplot(1, 2, 1)\n",
        "plt.plot(train_acc, label='Training Accuracy')\n",
        "plt.plot(val_acc, label='Validation Accuracy')\n",
        "plt.title('Training and Validation Accuracy')\n",
        "plt.xlabel('Epoch')\n",
        "plt.ylabel('Accuracy')\n",
        "plt.legend()\n",
        "\n",
        "# Plotting loss pelatihan dan validasi\n",
        "plt.subplot(1, 2, 2)\n",
        "plt.plot(train_loss, label='Training Loss')\n",
        "plt.plot(val_loss, label='Validation Loss')\n",
        "plt.title('Training and Validation Loss')\n",
        "plt.xlabel('Epoch')\n",
        "plt.ylabel('Loss')\n",
        "plt.legend()\n",
        "\n",
        "# Menampilkan grafik\n",
        "plt.show()"
      ]
    },
    {
      "cell_type": "markdown",
      "source": [
        "#Testing model"
      ],
      "metadata": {
        "id": "7V0GbX4iK1Kl"
      }
    },
    {
      "cell_type": "code",
      "execution_count": null,
      "metadata": {
        "id": "NcOEW-wuvNC1"
      },
      "outputs": [],
      "source": [
        "test_labels = test_generator.classes\n",
        "test_labels\n",
        "\n",
        "test_generator.class_indices\n",
        "predictions = best_model.predict(test_generator, verbose=0)"
      ]
    },
    {
      "cell_type": "code",
      "execution_count": null,
      "metadata": {
        "id": "vPvH6SisvxvC"
      },
      "outputs": [],
      "source": [
        "import matplotlib.pyplot as plt\n",
        "\n",
        "def plot_confusion_matrix(cm, classes,\n",
        "                          normalize=False,\n",
        "                          title='Confutsion Matrix',\n",
        "                          cmap=plt.cm.Blues):\n",
        "  \"\"\"\n",
        "  This function prints and plots the confusion matrix.\n",
        "  Normalization can be applied by setting 'normalized=True'.\n",
        "  \"\"\"\n",
        "  plt.imshow(cm, interpolation='nearest', cmap=cmap)\n",
        "  plt.tittle=(title)\n",
        "  plt.colorbar()\n",
        "  tick_marks = np.arange(len(classes))\n",
        "  plt.xticks(tick_marks, classes, rotation=45)\n",
        "  plt.yticks(tick_marks, classes)\n",
        "\n",
        "  if normalize:\n",
        "    cm = cm.astype('float') / cm.sum(axis=1)[:, np.newaxis]\n",
        "    print(\"Normalized confusion matrix\")\n",
        "  else:\n",
        "    print(\"Confusion matrix without normalization\")\n",
        "  print(cm)\n",
        "\n",
        "  thresh = cm.max() / 2.\n",
        "  for i, j in itertools.product(range(cm.shape[0]), range(cm.shape[1])):\n",
        "    plt.text(j, i, cm[i,j],\n",
        "             horizontalalignment=\"center\",\n",
        "             color=\"white\" if cm[i, j] > thresh else \"black\")\n",
        "\n",
        "  plt.tight_layout()\n",
        "  plt.ylabel('True label')\n",
        "  plt.xlabel('Predicted label')"
      ]
    },
    {
      "cell_type": "code",
      "execution_count": null,
      "metadata": {
        "colab": {
          "base_uri": "https://localhost:8080/",
          "height": 575
        },
        "id": "sQdbK1bXymKW",
        "outputId": "e3ae05a4-76b7-4f21-ef65-7da0661760d6"
      },
      "outputs": [
        {
          "output_type": "stream",
          "name": "stdout",
          "text": [
            "Confusion matrix without normalization\n",
            "[[19  0  0]\n",
            " [ 0 19  0]\n",
            " [ 0  1 18]]\n"
          ]
        },
        {
          "output_type": "display_data",
          "data": {
            "text/plain": [
              "<Figure size 640x480 with 2 Axes>"
            ],
            "image/png": "[encoded data removed]"
          },
          "metadata": {}
        }
      ],
      "source": [
        "import numpy as np\n",
        "from sklearn.metrics import confusion_matrix\n",
        "import itertools\n",
        "\n",
        "cm = confusion_matrix(test_labels, predictions.argmax(axis=1))\n",
        "\n",
        "cm_plot_labels = ['lubang', 'noda', 'tidak-cacat']\n",
        "plot_confusion_matrix(cm, cm_plot_labels, title='Confusion Matrix')"
      ]
    },
    {
      "cell_type": "markdown",
      "source": [
        "**MENGHITUNG AKURASI**"
      ],
      "metadata": {
        "id": "7nClkOHM-u6A"
      }
    },
    {
      "cell_type": "code",
      "source": [
        "pred_labels = predictions.argmax(axis=1)\n",
        "\n",
        "# Menampilkan pred_labels\n",
        "print(pred_labels)"
      ],
      "metadata": {
        "id": "Zkhx_vCF6rPS",
        "colab": {
          "base_uri": "https://localhost:8080/"
        },
        "outputId": "ca060b4b-96d4-4974-f1be-97b843e39a69"
      },
      "execution_count": null,
      "outputs": [
        {
          "output_type": "stream",
          "name": "stdout",
          "text": [
            "[0 0 0 0 0 0 0 0 0 0 0 0 0 0 0 0 0 0 0 1 1 1 1 1 1 1 1 1 1 1 1 1 1 1 1 1 1\n",
            " 1 2 2 2 2 2 1 2 2 2 2 2 2 2 2 2 2 2 2 2]\n"
          ]
        }
      ]
    },
    {
      "cell_type": "code",
      "source": [
        "from sklearn.metrics import accuracy_score, classification_report\n",
        "\n",
        "# pred_labels: array label prediksi\n",
        "# test_labels: array label ground truth\n",
        "accuracy = accuracy_score(test_labels, pred_labels)\n",
        "\n",
        "# menghitung F1-score, recall dan precision\n",
        "report = classification_report(test_labels, pred_labels)\n",
        "\n",
        "print(\"Akurasi: {:.2f}%\".format(accuracy * 100))\n",
        "print(\"Classification Report:\\n\", report)"
      ],
      "metadata": {
        "id": "sDDG7KSa6rvb",
        "colab": {
          "base_uri": "https://localhost:8080/"
        },
        "outputId": "e42613af-0648-4c2f-a216-21c8933a5ea0"
      },
      "execution_count": null,
      "outputs": [
        {
          "output_type": "stream",
          "name": "stdout",
          "text": [
            "Akurasi: 98.25%\n",
            "Classification Report:\n",
            "               precision    recall  f1-score   support\n",
            "\n",
            "           0       1.00      1.00      1.00        19\n",
            "           1       0.95      1.00      0.97        19\n",
            "           2       1.00      0.95      0.97        19\n",
            "\n",
            "    accuracy                           0.98        57\n",
            "   macro avg       0.98      0.98      0.98        57\n",
            "weighted avg       0.98      0.98      0.98        57\n",
            "\n"
          ]
        }
      ]
    },
    {
      "cell_type": "markdown",
      "source": [
        "#Save model"
      ],
      "metadata": {
        "id": "NxAbakYwJnLk"
      }
    },
    {
      "cell_type": "code",
      "source": [
        "save_path = '/content/drive/MyDrive/Colab Notebooks/tugas-akhir/mobilenetv2-hyperparameter-otomatis/save-model/Salinan2-kerastuner-25jan.h5'\n",
        "best_model.save(save_path)"
      ],
      "metadata": {
        "id": "Zka-m6VaJohF",
        "colab": {
          "base_uri": "https://localhost:8080/"
        },
        "outputId": "d4442c5a-bfb8-400b-97fa-60e20dfe3099"
      },
      "execution_count": null,
      "outputs": [
        {
          "output_type": "stream",
          "name": "stderr",
          "text": [
            "/usr/local/lib/python3.10/dist-packages/keras/src/engine/training.py:3103: UserWarning: You are saving your model as an HDF5 file via `model.save()`. This file format is considered legacy. We recommend using instead the native Keras format, e.g. `model.save('my_model.keras')`.\n",
            "  saving_api.save_model(\n"
          ]
        }
      ]
    },
    {
      "cell_type": "code",
      "source": [
        "from tensorflow import lite\n",
        "\n",
        "model_h5 = tf.keras.models.load_model(save_path)\n",
        "\n",
        "# Membuat konverter\n",
        "converter = lite.TFLiteConverter.from_keras_model(model_h5)\n",
        "\n",
        "# Mengonversi model\n",
        "tflite_model = converter.convert()\n",
        "\n",
        "# Menyimpan model\n",
        "with open('/content/drive/MyDrive/Colab Notebooks/tugas-akhir/mobilenetv2-hyperparameter-otomatis/save-model/Salinan2-kerastuner-25jan.tflite', 'wb') as f:\n",
        "    f.write(tflite_model)"
      ],
      "metadata": {
        "id": "GX3oCbqiLNs5"
      },
      "execution_count": null,
      "outputs": []
    }
  ],
  "metadata": {
    "accelerator": "GPU",
    "colab": {
      "provenance": [],
      "gpuType": "T4",
      "toc_visible": true
    },
    "kernelspec": {
      "display_name": "Python 3",
      "name": "python3"
    },
    "language_info": {
      "name": "python"
    }
  },
  "nbformat": 4,
  "nbformat_minor": 0
}