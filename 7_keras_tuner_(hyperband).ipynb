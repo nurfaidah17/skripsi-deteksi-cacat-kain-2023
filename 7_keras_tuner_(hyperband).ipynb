{
  "cells": [
    {
      "cell_type": "markdown",
      "metadata": {
        "id": "lApPo41WUBOE"
      },
      "source": [
        "Nilai yang dicari menggunakan Keras Tuner adalah:\n",
        "- learning rate ✅\n",
        "- epoch ✅\n",
        "- steps per epoch ✅\n",
        "- validation steps ✅"
      ]
    },
    {
      "cell_type": "markdown",
      "metadata": {
        "id": "zTf2dFxHFLSD"
      },
      "source": [
        "#install dan import Libraries"
      ]
    },
    {
      "cell_type": "code",
      "execution_count": null,
      "metadata": {
        "colab": {
          "base_uri": "https://localhost:8080/"
        },
        "id": "xGS0RW_EzNmN",
        "outputId": "46ff733c-4a0c-4806-ef93-71ff11b961de"
      },
      "outputs": [
        {
          "output_type": "stream",
          "name": "stdout",
          "text": [
            "Collecting keras-tuner\n",
            "  Downloading keras_tuner-1.4.6-py3-none-any.whl (128 kB)\n",
            "\u001b[?25l     \u001b[90m━━━━━━━━━━━━━━━━━━━━━━━━━━━━━━━━━━━━━━━━\u001b[0m \u001b[32m0.0/128.9 kB\u001b[0m \u001b[31m?\u001b[0m eta \u001b[36m-:--:--\u001b[0m\r\u001b[2K     \u001b[91m━━━━━━━━━━━━━━━━━━━━━━━━━━━━\u001b[0m\u001b[91m╸\u001b[0m\u001b[90m━━━━━━━━━━━\u001b[0m \u001b[32m92.2/128.9 kB\u001b[0m \u001b[31m2.8 MB/s\u001b[0m eta \u001b[36m0:00:01\u001b[0m\r\u001b[2K     \u001b[90m━━━━━━━━━━━━━━━━━━━━━━━━━━━━━━━━━━━━━━━━\u001b[0m \u001b[32m128.9/128.9 kB\u001b[0m \u001b[31m2.8 MB/s\u001b[0m eta \u001b[36m0:00:00\u001b[0m\n",
            "\u001b[?25hRequirement already satisfied: keras in /usr/local/lib/python3.10/dist-packages (from keras-tuner) (2.15.0)\n",
            "Requirement already satisfied: packaging in /usr/local/lib/python3.10/dist-packages (from keras-tuner) (23.2)\n",
            "Requirement already satisfied: requests in /usr/local/lib/python3.10/dist-packages (from keras-tuner) (2.31.0)\n",
            "Collecting kt-legacy (from keras-tuner)\n",
            "  Downloading kt_legacy-1.0.5-py3-none-any.whl (9.6 kB)\n",
            "Requirement already satisfied: charset-normalizer<4,>=2 in /usr/local/lib/python3.10/dist-packages (from requests->keras-tuner) (3.3.2)\n",
            "Requirement already satisfied: idna<4,>=2.5 in /usr/local/lib/python3.10/dist-packages (from requests->keras-tuner) (3.6)\n",
            "Requirement already satisfied: urllib3<3,>=1.21.1 in /usr/local/lib/python3.10/dist-packages (from requests->keras-tuner) (2.0.7)\n",
            "Requirement already satisfied: certifi>=2017.4.17 in /usr/local/lib/python3.10/dist-packages (from requests->keras-tuner) (2023.11.17)\n",
            "Installing collected packages: kt-legacy, keras-tuner\n",
            "Successfully installed keras-tuner-1.4.6 kt-legacy-1.0.5\n"
          ]
        }
      ],
      "source": [
        "#install Keras Tuner\n",
        "!pip install keras-tuner"
      ]
    },
    {
      "cell_type": "code",
      "execution_count": null,
      "metadata": {
        "id": "RtijUZttv9Y3"
      },
      "outputs": [],
      "source": [
        "import tensorflow as tf\n",
        "from tensorflow import keras\n",
        "from tensorflow.keras import layers\n",
        "import keras_tuner as kt\n",
        "from keras_tuner.tuners import RandomSearch\n",
        "from tensorflow.keras.models import Model\n",
        "from tensorflow.keras.applications import MobileNetV2\n",
        "from tensorflow.keras.layers import Dense, GlobalAveragePooling2D\n",
        "from tensorflow.keras.optimizers import Adam\n",
        "from tensorflow.keras.preprocessing.image import ImageDataGenerator"
      ]
    },
    {
      "cell_type": "markdown",
      "metadata": {
        "id": "BZ1n1QKpFSLT"
      },
      "source": [
        "#Load Dataset"
      ]
    },
    {
      "cell_type": "code",
      "execution_count": null,
      "metadata": {
        "colab": {
          "base_uri": "https://localhost:8080/"
        },
        "id": "q-cVTIW9wQJw",
        "outputId": "a846fa88-0be8-4aa2-ffb6-909b0ee516b8"
      },
      "outputs": [
        {
          "output_type": "stream",
          "name": "stdout",
          "text": [
            "Mounted at /content/drive\n"
          ]
        }
      ],
      "source": [
        "# connect GOOGLE DRIVE\n",
        "from google.colab import drive\n",
        "drive.mount('/content/drive')"
      ]
    },
    {
      "cell_type": "code",
      "execution_count": null,
      "metadata": {
        "id": "pDo2GbyRwR8R"
      },
      "outputs": [],
      "source": [
        "train_path = '/content/drive/MyDrive/Colab Notebooks/db-kck-rgb/tanpa-augmentasi/train'\n",
        "valid_path = '/content/drive/MyDrive/Colab Notebooks/db-kck-rgb/tanpa-augmentasi/valid'\n",
        "test_path = '/content/drive/MyDrive/Colab Notebooks/db-kck-rgb/tanpa-augmentasi/test'"
      ]
    },
    {
      "cell_type": "code",
      "execution_count": null,
      "metadata": {
        "colab": {
          "base_uri": "https://localhost:8080/"
        },
        "id": "M57bp9jf0ZDN",
        "outputId": "39285280-79c7-4f0e-f288-4bb03f036262"
      },
      "outputs": [
        {
          "output_type": "stream",
          "name": "stdout",
          "text": [
            "Found 415 images belonging to 3 classes.\n",
            "Found 114 images belonging to 3 classes.\n",
            "Found 57 images belonging to 3 classes.\n"
          ]
        }
      ],
      "source": [
        "# Membuat generator data pelatihan dan validasi\n",
        "train_generator = ImageDataGenerator(preprocessing_function=keras.applications.mobilenet_v2.preprocess_input).flow_from_directory(\n",
        "    train_path, target_size=(224,224), batch_size=10, class_mode='categorical')\n",
        "valid_generator = ImageDataGenerator(preprocessing_function=keras.applications.mobilenet_v2.preprocess_input).flow_from_directory(\n",
        "    valid_path, target_size=(224,224), batch_size=10, class_mode='categorical')\n",
        "test_generator = ImageDataGenerator(preprocessing_function=keras.applications.mobilenet_v2.preprocess_input).flow_from_directory(\n",
        "    test_path, target_size=(224,224), batch_size=10, shuffle=False, class_mode='categorical')"
      ]
    },
    {
      "cell_type": "markdown",
      "metadata": {
        "id": "xIoC0hcQFVeS"
      },
      "source": [
        "#Define the model"
      ]
    },
    {
      "cell_type": "code",
      "execution_count": null,
      "metadata": {
        "id": "jD8ZoI8Tlyd5"
      },
      "outputs": [],
      "source": [
        "def model_build(hp):\n",
        "  # Create MobileNetV2 dan add dense layer (3)\n",
        "  mobile = MobileNetV2(weights='imagenet')\n",
        "  x = mobile.layers[-1].output\n",
        "  predictions = Dense(3, activation='softmax')(x)\n",
        "  model = Model(inputs=mobile.input, outputs=predictions)\n",
        "\n",
        "  # Tune the learning rate for the optimizer\n",
        "  hp_learning_rate = hp.Choice('learning_rate', values=[1e-3, 1e-4, 1e-5])\n",
        "\n",
        "  # Tune steps_per_epoch and validation_steps\n",
        "  hp_steps_per_epoch = hp.Int('steps_per_epoch', min_value=37, max_value=57, step=5)\n",
        "  hp_validation_steps = hp.Int('validation_steps', min_value=10, max_value=16, step=2)\n",
        "\n",
        "  model.compile(optimizer=keras.optimizers.Adam(learning_rate=hp_learning_rate),\n",
        "                loss='categorical_crossentropy',\n",
        "                metrics=['accuracy'])\n",
        "\n",
        "  return model"
      ]
    },
    {
      "cell_type": "code",
      "execution_count": null,
      "metadata": {
        "id": "kUqt3VcznYom",
        "colab": {
          "base_uri": "https://localhost:8080/"
        },
        "outputId": "d72317cb-81cf-4f1c-beb9-1f4c22ea3bbf"
      },
      "outputs": [
        {
          "output_type": "stream",
          "name": "stdout",
          "text": [
            "Downloading data from https://storage.googleapis.com/tensorflow/keras-applications/mobilenet_v2/mobilenet_v2_weights_tf_dim_ordering_tf_kernels_1.0_224.h5\n",
            "14536120/14536120 [==============================] - 2s 0us/step\n"
          ]
        }
      ],
      "source": [
        "# Instantiate the tuner and perform hypertuning\n",
        "tuner = kt.Hyperband(model_build,\n",
        "                     objective='val_accuracy',\n",
        "                     max_epochs=5,\n",
        "                     factor=2,\n",
        "                     directory='my_dir',\n",
        "                     project_name='fdefect_detection')"
      ]
    },
    {
      "cell_type": "code",
      "execution_count": null,
      "metadata": {
        "id": "BU77YBEan3R2"
      },
      "outputs": [],
      "source": [
        "stop_early = tf.keras.callbacks.EarlyStopping(monitor='val_loss', patience=5)"
      ]
    },
    {
      "cell_type": "code",
      "execution_count": null,
      "metadata": {
        "colab": {
          "base_uri": "https://localhost:8080/"
        },
        "id": "o2d_Ywu9n-8d",
        "outputId": "dd21de36-20b0-45bc-fe53-2e58f04fbf80"
      },
      "outputs": [
        {
          "output_type": "stream",
          "name": "stdout",
          "text": [
            "Trial 21 Complete [00h 00m 49s]\n",
            "val_accuracy: 0.44736841320991516\n",
            "\n",
            "Best val_accuracy So Far: 0.9210526347160339\n",
            "Total elapsed time: 00h 19m 32s\n",
            "\n",
            "The hyperparameter search is complete. The optimal learning rate for the optimizer is 0.0001.\n",
            "\n"
          ]
        }
      ],
      "source": [
        "tuner.search(train_generator, validation_data=valid_generator, epochs=35, callbacks=[stop_early])\n",
        "\n",
        "# Get the optimal hyperparameters\n",
        "best_hps=tuner.get_best_hyperparameters(num_trials=1)[0]\n",
        "\n",
        "print(f\"\"\"\n",
        "The hyperparameter search is complete. The optimal learning rate for the optimizer is {best_hps.get('learning_rate')}.\n",
        "\"\"\")\n"
      ]
    },
    {
      "cell_type": "code",
      "source": [
        "# Mengambil nilai hyperparameter terbaik\n",
        "best_learning_rate = best_hps.get('learning_rate')\n",
        "best_steps_per_epoch = best_hps.get('steps_per_epoch')\n",
        "best_validation_steps = best_hps.get('validation_steps')\n",
        "\n",
        "# Menampilkan hasil\n",
        "print(f\"Best learning_rate: {best_learning_rate}\")\n",
        "print(f\"Best steps_per_epoch: {best_steps_per_epoch}\")\n",
        "print(f\"Best validation_steps: {best_validation_steps}\")"
      ],
      "metadata": {
        "id": "koA-_2aYE5SN",
        "colab": {
          "base_uri": "https://localhost:8080/"
        },
        "outputId": "0e8533de-5b02-421e-b9a4-c3e57f6e6069"
      },
      "execution_count": null,
      "outputs": [
        {
          "output_type": "stream",
          "name": "stdout",
          "text": [
            "Best learning_rate: 0.0001\n",
            "Best steps_per_epoch: 42\n",
            "Best validation_steps: 12\n"
          ]
        }
      ]
    },
    {
      "cell_type": "code",
      "source": [
        "from tensorflow.keras.preprocessing.image import ImageDataGenerator\n",
        "from itertools import cycle\n",
        "\n",
        "train_generator_repeated = cycle(train_generator)\n",
        "valid_generator_repeated = cycle(valid_generator)"
      ],
      "metadata": {
        "id": "36KkAPRfE-P-"
      },
      "execution_count": null,
      "outputs": []
    },
    {
      "cell_type": "code",
      "source": [
        "# TRAIN THE MODEL\n",
        "# Build the model with the optimal hyperparameters and train it on the data for 50 epochs\n",
        "model = tuner.hypermodel.build(best_hps)\n",
        "\n",
        "history = model.fit(train_generator_repeated, validation_data=valid_generator_repeated, epochs=40,\n",
        "                    steps_per_epoch=best_steps_per_epoch, validation_steps=best_validation_steps)\n",
        "\n",
        "\n",
        "val_acc_per_epoch = history.history['val_accuracy']\n",
        "best_epoch = val_acc_per_epoch.index(max(val_acc_per_epoch)) + 1\n",
        "print('Best epoch: %d' % (best_epoch,))"
      ],
      "metadata": {
        "id": "OQ47aeZrFAcy",
        "colab": {
          "base_uri": "https://localhost:8080/"
        },
        "outputId": "cf729ac2-8263-4913-a3b1-db068dc3b3e1"
      },
      "execution_count": null,
      "outputs": [
        {
          "output_type": "stream",
          "name": "stdout",
          "text": [
            "Epoch 1/40\n",
            "42/42 [==============================] - 26s 103ms/step - loss: 1.0865 - accuracy: 0.6458 - val_loss: 1.0765 - val_accuracy: 0.5439\n",
            "Epoch 2/40\n",
            "42/42 [==============================] - 5s 122ms/step - loss: 1.0503 - accuracy: 0.8458 - val_loss: 1.0822 - val_accuracy: 0.5175\n",
            "Epoch 3/40\n",
            "42/42 [==============================] - 3s 80ms/step - loss: 1.0343 - accuracy: 0.8795 - val_loss: 1.0798 - val_accuracy: 0.5526\n",
            "Epoch 4/40\n",
            "42/42 [==============================] - 3s 82ms/step - loss: 1.0219 - accuracy: 0.9229 - val_loss: 1.0627 - val_accuracy: 0.6404\n",
            "Epoch 5/40\n",
            "42/42 [==============================] - 27s 668ms/step - loss: 1.0190 - accuracy: 0.9012 - val_loss: 1.0768 - val_accuracy: 0.5175\n",
            "Epoch 6/40\n",
            "41/42 [============================>.] - ETA: 0s - loss: 1.0067 - accuracy: 0.9585"
          ]
        }
      ]
    },
    {
      "cell_type": "markdown",
      "metadata": {
        "id": "tKSKP0IkOyAI"
      },
      "source": [
        "Ini adalah batas sesi 1 Colab. Sesi berakhir karena mengalami \"crashed\" akibat keterbatasan RAM yang tersedia. Disarankan untuk menggunakan Colab Pro."
      ]
    },
    {
      "cell_type": "markdown",
      "source": [
        "# SESI 2 -> training menggunakan nilai best hps()"
      ],
      "metadata": {
        "id": "S7fdIcC5YpVI"
      }
    },
    {
      "cell_type": "markdown",
      "source": [
        "*   Best val_accuracy So Far: 0.9210526347160339\n",
        "*   Total elapsed time: 00h 19m 32s\n",
        "\n",
        "\n",
        "Berikut nilai best hps() dari sesi 1 Colab:\n",
        "*   Best learning_rate: 0.0001\n",
        "*   Best steps_per_epoch: 42\n",
        "*   Best validation_steps: 12"
      ],
      "metadata": {
        "id": "x8VlWQzpkltP"
      }
    },
    {
      "cell_type": "markdown",
      "source": [
        "Pada sesi kedua ini akan menggunakan nilai learning rate, steps per epoch dan validation steps yang didapatkan pada Sesi 1.\n",
        "Kemudian pada sesi kedua ini akan dilakukan pencarian mencari nilai epoch terbaik."
      ],
      "metadata": {
        "id": "b00bWOY9kfTe"
      }
    },
    {
      "cell_type": "code",
      "source": [
        "def model_build(hp):\n",
        "  # Create MobileNetV2 dan add dense layer (3)\n",
        "  mobile = MobileNetV2(weights='imagenet')\n",
        "  x = mobile.layers[-1].output\n",
        "  predictions = Dense(3, activation='softmax')(x)\n",
        "  model = Model(inputs=mobile.input, outputs=predictions)\n",
        "\n",
        "  model.compile(optimizer=keras.optimizers.Adam(learning_rate=0.0001),\n",
        "         loss='categorical_crossentropy',\n",
        "         metrics=['accuracy'])\n",
        "\n",
        "  return model"
      ],
      "metadata": {
        "id": "a4lE9JZhYo4e"
      },
      "execution_count": null,
      "outputs": []
    },
    {
      "cell_type": "code",
      "source": [
        "# Instantiate the tuner and perform hypertuning\n",
        "tuner = kt.Hyperband(model_build,\n",
        "                     objective='val_accuracy',\n",
        "                     max_epochs=30,\n",
        "                     factor=3,\n",
        "                     directory='my_dir',\n",
        "                     project_name='my_project1')"
      ],
      "metadata": {
        "id": "lnPCyskQ-NdI",
        "colab": {
          "base_uri": "https://localhost:8080/"
        },
        "outputId": "33db3bc2-af50-4449-e1c6-037fe8e4a6ee"
      },
      "execution_count": null,
      "outputs": [
        {
          "output_type": "stream",
          "name": "stdout",
          "text": [
            "Downloading data from https://storage.googleapis.com/tensorflow/keras-applications/mobilenet_v2/mobilenet_v2_weights_tf_dim_ordering_tf_kernels_1.0_224.h5\n",
            "14536120/14536120 [==============================] - 2s 0us/step\n"
          ]
        }
      ]
    },
    {
      "cell_type": "code",
      "source": [
        "# Bangun model dengan hyperparameter yang ditemukan\n",
        "best_model = model_build(hp=None)\n",
        "\n",
        "# Latih model selama 40 epoch\n",
        "history = best_model.fit(train_generator, epochs=40, validation_data=valid_generator, steps_per_epoch=42, validation_steps=12)\n",
        "\n",
        "val_acc_per_epoch = history.history['val_accuracy']\n",
        "best_epoch = val_acc_per_epoch.index(max(val_acc_per_epoch)) + 1\n",
        "\n",
        "# menampilkan epoch terbaik yang ditemukan\n",
        "print('Epoch terbaik: %d' % (best_epoch,))"
      ],
      "metadata": {
        "colab": {
          "base_uri": "https://localhost:8080/"
        },
        "id": "g42VXlXbE2En",
        "outputId": "e7b74bae-4c8b-4c8d-929b-4235cdf7d485"
      },
      "execution_count": null,
      "outputs": [
        {
          "output_type": "stream",
          "name": "stdout",
          "text": [
            "Epoch 1/40\n",
            "42/42 [==============================] - 358s 8s/step - loss: 1.0889 - accuracy: 0.6843 - val_loss: 1.0868 - val_accuracy: 0.4298\n",
            "Epoch 2/40\n",
            "42/42 [==============================] - 4s 90ms/step - loss: 1.0522 - accuracy: 0.8723 - val_loss: 1.0658 - val_accuracy: 0.6491\n",
            "Epoch 3/40\n",
            "42/42 [==============================] - 4s 85ms/step - loss: 1.0272 - accuracy: 0.9349 - val_loss: 1.0440 - val_accuracy: 0.7807\n",
            "Epoch 4/40\n",
            "42/42 [==============================] - 3s 76ms/step - loss: 1.0145 - accuracy: 0.9373 - val_loss: 1.0595 - val_accuracy: 0.6842\n",
            "Epoch 5/40\n",
            "42/42 [==============================] - 3s 73ms/step - loss: 1.0098 - accuracy: 0.9373 - val_loss: 1.0249 - val_accuracy: 0.8158\n",
            "Epoch 6/40\n",
            "42/42 [==============================] - 3s 78ms/step - loss: 1.0005 - accuracy: 0.9398 - val_loss: 1.0311 - val_accuracy: 0.7719\n",
            "Epoch 7/40\n",
            "42/42 [==============================] - 3s 72ms/step - loss: 0.9937 - accuracy: 0.9373 - val_loss: 1.0504 - val_accuracy: 0.6491\n",
            "Epoch 8/40\n",
            "42/42 [==============================] - 3s 71ms/step - loss: 0.9857 - accuracy: 0.9446 - val_loss: 1.0204 - val_accuracy: 0.8070\n",
            "Epoch 9/40\n",
            "42/42 [==============================] - 3s 75ms/step - loss: 0.9787 - accuracy: 0.9518 - val_loss: 1.0128 - val_accuracy: 0.7807\n",
            "Epoch 10/40\n",
            "42/42 [==============================] - 3s 72ms/step - loss: 0.9715 - accuracy: 0.9542 - val_loss: 1.0107 - val_accuracy: 0.7895\n",
            "Epoch 11/40\n",
            "42/42 [==============================] - 3s 71ms/step - loss: 0.9641 - accuracy: 0.9687 - val_loss: 1.0258 - val_accuracy: 0.6930\n",
            "Epoch 12/40\n",
            "42/42 [==============================] - 3s 71ms/step - loss: 0.9598 - accuracy: 0.9639 - val_loss: 0.9924 - val_accuracy: 0.8158\n",
            "Epoch 13/40\n",
            "42/42 [==============================] - 4s 84ms/step - loss: 0.9493 - accuracy: 0.9807 - val_loss: 0.9877 - val_accuracy: 0.8158\n",
            "Epoch 14/40\n",
            "42/42 [==============================] - 3s 69ms/step - loss: 0.9456 - accuracy: 0.9807 - val_loss: 0.9811 - val_accuracy: 0.8333\n",
            "Epoch 15/40\n",
            "42/42 [==============================] - 3s 71ms/step - loss: 0.9388 - accuracy: 0.9807 - val_loss: 0.9784 - val_accuracy: 0.8333\n",
            "Epoch 16/40\n",
            "42/42 [==============================] - 4s 83ms/step - loss: 0.9377 - accuracy: 0.9687 - val_loss: 0.9792 - val_accuracy: 0.8158\n",
            "Epoch 17/40\n",
            "42/42 [==============================] - 4s 97ms/step - loss: 0.9283 - accuracy: 0.9855 - val_loss: 1.0124 - val_accuracy: 0.6842\n",
            "Epoch 18/40\n",
            "42/42 [==============================] - 3s 71ms/step - loss: 0.9288 - accuracy: 0.9639 - val_loss: 0.9901 - val_accuracy: 0.7544\n",
            "Epoch 19/40\n",
            "42/42 [==============================] - 3s 70ms/step - loss: 0.9189 - accuracy: 0.9831 - val_loss: 0.9460 - val_accuracy: 0.8947\n",
            "Epoch 20/40\n",
            "42/42 [==============================] - 3s 76ms/step - loss: 0.9160 - accuracy: 0.9735 - val_loss: 0.9822 - val_accuracy: 0.7544\n",
            "Epoch 21/40\n",
            "42/42 [==============================] - 4s 86ms/step - loss: 0.9125 - accuracy: 0.9735 - val_loss: 0.9280 - val_accuracy: 0.9211\n",
            "Epoch 22/40\n",
            "42/42 [==============================] - 3s 70ms/step - loss: 0.9092 - accuracy: 0.9711 - val_loss: 0.9445 - val_accuracy: 0.8596\n",
            "Epoch 23/40\n",
            "42/42 [==============================] - 3s 68ms/step - loss: 0.9072 - accuracy: 0.9614 - val_loss: 0.9398 - val_accuracy: 0.8596\n",
            "Epoch 24/40\n",
            "42/42 [==============================] - 3s 81ms/step - loss: 0.8971 - accuracy: 0.9807 - val_loss: 0.9513 - val_accuracy: 0.8070\n",
            "Epoch 25/40\n",
            "42/42 [==============================] - 3s 74ms/step - loss: 0.8932 - accuracy: 0.9735 - val_loss: 0.9903 - val_accuracy: 0.6667\n",
            "Epoch 26/40\n",
            "42/42 [==============================] - 3s 74ms/step - loss: 0.8855 - accuracy: 0.9880 - val_loss: 0.9844 - val_accuracy: 0.7105\n",
            "Epoch 27/40\n",
            "42/42 [==============================] - 3s 68ms/step - loss: 0.8965 - accuracy: 0.9446 - val_loss: 0.9826 - val_accuracy: 0.7018\n",
            "Epoch 28/40\n",
            "42/42 [==============================] - 4s 89ms/step - loss: 0.8830 - accuracy: 0.9687 - val_loss: 0.8906 - val_accuracy: 0.9474\n",
            "Epoch 29/40\n",
            "42/42 [==============================] - 3s 71ms/step - loss: 0.8730 - accuracy: 0.9831 - val_loss: 0.9097 - val_accuracy: 0.8772\n",
            "Epoch 30/40\n",
            "42/42 [==============================] - 3s 74ms/step - loss: 0.8672 - accuracy: 0.9880 - val_loss: 0.8854 - val_accuracy: 0.9386\n",
            "Epoch 31/40\n",
            "42/42 [==============================] - 3s 68ms/step - loss: 0.8607 - accuracy: 0.9928 - val_loss: 0.8953 - val_accuracy: 0.8947\n",
            "Epoch 32/40\n",
            "42/42 [==============================] - 4s 92ms/step - loss: 0.8655 - accuracy: 0.9711 - val_loss: 0.8662 - val_accuracy: 0.9649\n",
            "Epoch 33/40\n",
            "42/42 [==============================] - 3s 76ms/step - loss: 0.8588 - accuracy: 0.9759 - val_loss: 0.8659 - val_accuracy: 0.9561\n",
            "Epoch 34/40\n",
            "42/42 [==============================] - 3s 75ms/step - loss: 0.8510 - accuracy: 0.9855 - val_loss: 0.8476 - val_accuracy: 0.9912\n",
            "Epoch 35/40\n",
            "42/42 [==============================] - 3s 70ms/step - loss: 0.8492 - accuracy: 0.9807 - val_loss: 0.9275 - val_accuracy: 0.7895\n",
            "Epoch 36/40\n",
            "42/42 [==============================] - 4s 82ms/step - loss: 0.8437 - accuracy: 0.9807 - val_loss: 0.9103 - val_accuracy: 0.8333\n",
            "Epoch 37/40\n",
            "42/42 [==============================] - 3s 69ms/step - loss: 0.8385 - accuracy: 0.9855 - val_loss: 0.8621 - val_accuracy: 0.9298\n",
            "Epoch 38/40\n",
            "42/42 [==============================] - 3s 70ms/step - loss: 0.8321 - accuracy: 0.9904 - val_loss: 0.8599 - val_accuracy: 0.9298\n",
            "Epoch 39/40\n",
            "42/42 [==============================] - 3s 75ms/step - loss: 0.8366 - accuracy: 0.9687 - val_loss: 0.8429 - val_accuracy: 0.9561\n",
            "Epoch 40/40\n",
            "42/42 [==============================] - 4s 97ms/step - loss: 0.8250 - accuracy: 0.9880 - val_loss: 0.8969 - val_accuracy: 0.8246\n",
            "Epoch terbaik: 34\n"
          ]
        }
      ]
    },
    {
      "cell_type": "code",
      "source": [
        "best_model = model_build(hp=None)\n",
        "\n",
        "# Retrain the model (menggunakan best_epoch)\n",
        "history = best_model.fit(train_generator, validation_data=valid_generator, epochs=best_epoch,\n",
        "               steps_per_epoch=42, validation_steps=12)"
      ],
      "metadata": {
        "colab": {
          "base_uri": "https://localhost:8080/"
        },
        "id": "cnUxsaWiGlbE",
        "outputId": "597e4eb6-3cab-4104-9801-6928baeb4bf7"
      },
      "execution_count": null,
      "outputs": [
        {
          "output_type": "stream",
          "name": "stdout",
          "text": [
            "Epoch 1/34\n",
            "42/42 [==============================] - 27s 124ms/step - loss: 1.0851 - accuracy: 0.7133 - val_loss: 1.0774 - val_accuracy: 0.5526\n",
            "Epoch 2/34\n",
            "42/42 [==============================] - 3s 70ms/step - loss: 1.0452 - accuracy: 0.8675 - val_loss: 1.0503 - val_accuracy: 0.7807\n",
            "Epoch 3/34\n",
            "42/42 [==============================] - 4s 90ms/step - loss: 1.0289 - accuracy: 0.8675 - val_loss: 1.0598 - val_accuracy: 0.5702\n",
            "Epoch 4/34\n",
            "42/42 [==============================] - 3s 75ms/step - loss: 1.0200 - accuracy: 0.8940 - val_loss: 1.0491 - val_accuracy: 0.6930\n",
            "Epoch 5/34\n",
            "42/42 [==============================] - 3s 76ms/step - loss: 1.0078 - accuracy: 0.9446 - val_loss: 1.0377 - val_accuracy: 0.7895\n",
            "Epoch 6/34\n",
            "42/42 [==============================] - 3s 82ms/step - loss: 1.0039 - accuracy: 0.9325 - val_loss: 1.0443 - val_accuracy: 0.7456\n",
            "Epoch 7/34\n",
            "42/42 [==============================] - 4s 91ms/step - loss: 1.0008 - accuracy: 0.9181 - val_loss: 1.0181 - val_accuracy: 0.8158\n",
            "Epoch 8/34\n",
            "42/42 [==============================] - 3s 71ms/step - loss: 0.9884 - accuracy: 0.9759 - val_loss: 1.0192 - val_accuracy: 0.8070\n",
            "Epoch 9/34\n",
            "42/42 [==============================] - 3s 68ms/step - loss: 0.9859 - accuracy: 0.9494 - val_loss: 1.0202 - val_accuracy: 0.7807\n",
            "Epoch 10/34\n",
            "42/42 [==============================] - 4s 88ms/step - loss: 0.9782 - accuracy: 0.9687 - val_loss: 1.0421 - val_accuracy: 0.6491\n",
            "Epoch 11/34\n",
            "42/42 [==============================] - 4s 87ms/step - loss: 0.9768 - accuracy: 0.9470 - val_loss: 0.9919 - val_accuracy: 0.8860\n",
            "Epoch 12/34\n",
            "42/42 [==============================] - 3s 69ms/step - loss: 0.9679 - accuracy: 0.9711 - val_loss: 1.0774 - val_accuracy: 0.4649\n",
            "Epoch 13/34\n",
            "42/42 [==============================] - 3s 71ms/step - loss: 0.9656 - accuracy: 0.9614 - val_loss: 1.0926 - val_accuracy: 0.3772\n",
            "Epoch 14/34\n",
            "42/42 [==============================] - 4s 92ms/step - loss: 0.9597 - accuracy: 0.9687 - val_loss: 1.0454 - val_accuracy: 0.6228\n",
            "Epoch 15/34\n",
            "42/42 [==============================] - 3s 69ms/step - loss: 0.9511 - accuracy: 0.9855 - val_loss: 1.0259 - val_accuracy: 0.7193\n",
            "Epoch 16/34\n",
            "42/42 [==============================] - 3s 76ms/step - loss: 0.9510 - accuracy: 0.9663 - val_loss: 1.0198 - val_accuracy: 0.7368\n",
            "Epoch 17/34\n",
            "42/42 [==============================] - 4s 100ms/step - loss: 0.9415 - accuracy: 0.9855 - val_loss: 1.0239 - val_accuracy: 0.7105\n",
            "Epoch 18/34\n",
            "42/42 [==============================] - 3s 69ms/step - loss: 0.9345 - accuracy: 0.9904 - val_loss: 0.9913 - val_accuracy: 0.8070\n",
            "Epoch 19/34\n",
            "42/42 [==============================] - 3s 70ms/step - loss: 0.9291 - accuracy: 0.9880 - val_loss: 0.9964 - val_accuracy: 0.7807\n",
            "Epoch 20/34\n",
            "42/42 [==============================] - 3s 69ms/step - loss: 0.9282 - accuracy: 0.9687 - val_loss: 0.9893 - val_accuracy: 0.7807\n",
            "Epoch 21/34\n",
            "42/42 [==============================] - 4s 92ms/step - loss: 0.9200 - accuracy: 0.9807 - val_loss: 0.9724 - val_accuracy: 0.8246\n",
            "Epoch 22/34\n",
            "42/42 [==============================] - 3s 69ms/step - loss: 0.9127 - accuracy: 0.9831 - val_loss: 0.9857 - val_accuracy: 0.7807\n",
            "Epoch 23/34\n",
            "42/42 [==============================] - 3s 76ms/step - loss: 0.9162 - accuracy: 0.9566 - val_loss: 0.9248 - val_accuracy: 0.9386\n",
            "Epoch 24/34\n",
            "42/42 [==============================] - 4s 100ms/step - loss: 0.9047 - accuracy: 0.9783 - val_loss: 0.9243 - val_accuracy: 0.9211\n",
            "Epoch 25/34\n",
            "42/42 [==============================] - 3s 74ms/step - loss: 0.8958 - accuracy: 0.9904 - val_loss: 0.9577 - val_accuracy: 0.8246\n",
            "Epoch 26/34\n",
            "42/42 [==============================] - 3s 76ms/step - loss: 0.8937 - accuracy: 0.9783 - val_loss: 0.9444 - val_accuracy: 0.8509\n",
            "Epoch 27/34\n",
            "42/42 [==============================] - 3s 76ms/step - loss: 0.8879 - accuracy: 0.9831 - val_loss: 0.9334 - val_accuracy: 0.8684\n",
            "Epoch 28/34\n",
            "42/42 [==============================] - 4s 101ms/step - loss: 0.8868 - accuracy: 0.9711 - val_loss: 0.9196 - val_accuracy: 0.8772\n",
            "Epoch 29/34\n",
            "42/42 [==============================] - 3s 74ms/step - loss: 0.8810 - accuracy: 0.9759 - val_loss: 0.9053 - val_accuracy: 0.9035\n",
            "Epoch 30/34\n",
            "42/42 [==============================] - 3s 69ms/step - loss: 0.8685 - accuracy: 1.0000 - val_loss: 0.9184 - val_accuracy: 0.8684\n",
            "Epoch 31/34\n",
            "42/42 [==============================] - 4s 83ms/step - loss: 0.8699 - accuracy: 0.9759 - val_loss: 0.8724 - val_accuracy: 0.9649\n",
            "Epoch 32/34\n",
            "42/42 [==============================] - 4s 88ms/step - loss: 0.8711 - accuracy: 0.9663 - val_loss: 0.8863 - val_accuracy: 0.9123\n",
            "Epoch 33/34\n",
            "42/42 [==============================] - 3s 76ms/step - loss: 0.8578 - accuracy: 0.9855 - val_loss: 0.8839 - val_accuracy: 0.9211\n",
            "Epoch 34/34\n",
            "42/42 [==============================] - 3s 70ms/step - loss: 0.8549 - accuracy: 0.9831 - val_loss: 0.8778 - val_accuracy: 0.9211\n"
          ]
        }
      ]
    },
    {
      "cell_type": "code",
      "source": [
        "#Evaluasi model menggunakan data uji\n",
        "eval_result = best_model.evaluate(test_generator)\n",
        "print(\"[test loss, test accuracy]:\", eval_result)"
      ],
      "metadata": {
        "colab": {
          "base_uri": "https://localhost:8080/"
        },
        "id": "LIvFZXoaH8MD",
        "outputId": "5b5aa9ee-39bb-4719-aa6b-7a2206e53bbe"
      },
      "execution_count": null,
      "outputs": [
        {
          "output_type": "stream",
          "name": "stdout",
          "text": [
            "6/6 [==============================] - 1s 46ms/step - loss: 0.8715 - accuracy: 0.9298\n",
            "[test loss, test accuracy]: [0.8715031743049622, 0.9298245906829834]\n"
          ]
        }
      ]
    },
    {
      "cell_type": "markdown",
      "metadata": {
        "id": "A9qdk7NaKE12"
      },
      "source": [
        "#Grafik hasil training dan validation"
      ]
    },
    {
      "cell_type": "code",
      "execution_count": null,
      "metadata": {
        "id": "dMcSbZGBJ9X0",
        "colab": {
          "base_uri": "https://localhost:8080/",
          "height": 410
        },
        "outputId": "581a11c4-5650-46d0-aa6f-721ecee2750f"
      },
      "outputs": [
        {
          "output_type": "display_data",
          "data": {
            "text/plain": [
              "<Figure size 1200x400 with 2 Axes>"
            ],
            "image/png": "[encoded data removed]"
          },
          "metadata": {}
        }
      ],
      "source": [
        "import matplotlib.pyplot as plt\n",
        "\n",
        "# Mendapatkan histori pelatihan dari hypermodel\n",
        "train_acc = history.history['accuracy']\n",
        "val_acc = history.history['val_accuracy']\n",
        "train_loss = history.history['loss']\n",
        "val_loss = history.history['val_loss']\n",
        "\n",
        "# Plotting akurasi pelatihan dan validasi\n",
        "plt.figure(figsize=(12, 4))\n",
        "plt.subplot(1, 2, 1)\n",
        "plt.plot(train_acc, label='Training Accuracy')\n",
        "plt.plot(val_acc, label='Validation Accuracy')\n",
        "plt.title('Training and Validation Accuracy')\n",
        "plt.xlabel('Epoch')\n",
        "plt.ylabel('Accuracy')\n",
        "plt.legend()\n",
        "\n",
        "# Plotting loss pelatihan dan validasi\n",
        "plt.subplot(1, 2, 2)\n",
        "plt.plot(train_loss, label='Training Loss')\n",
        "plt.plot(val_loss, label='Validation Loss')\n",
        "plt.title('Training and Validation Loss')\n",
        "plt.xlabel('Epoch')\n",
        "plt.ylabel('Loss')\n",
        "plt.legend()\n",
        "\n",
        "# Menampilkan grafik\n",
        "plt.show()"
      ]
    },
    {
      "cell_type": "markdown",
      "source": [
        "#Testing model"
      ],
      "metadata": {
        "id": "7V0GbX4iK1Kl"
      }
    },
    {
      "cell_type": "code",
      "execution_count": null,
      "metadata": {
        "id": "pVtVf3V8nRqw",
        "colab": {
          "base_uri": "https://localhost:8080/"
        },
        "outputId": "64c722f9-0a1f-4013-d93a-e2204d96fd84"
      },
      "outputs": [
        {
          "output_type": "execute_result",
          "data": {
            "text/plain": [
              "array([0, 0, 0, 0, 0, 0, 0, 0, 0, 0, 0, 0, 0, 0, 0, 0, 0, 0, 0, 1, 1, 1,\n",
              "       1, 1, 1, 1, 1, 1, 1, 1, 1, 1, 1, 1, 1, 1, 1, 1, 2, 2, 2, 2, 2, 2,\n",
              "       2, 2, 2, 2, 2, 2, 2, 2, 2, 2, 2, 2, 2], dtype=int32)"
            ]
          },
          "metadata": {},
          "execution_count": 11
        }
      ],
      "source": [
        "test_labels = test_generator.classes\n",
        "test_labels"
      ]
    },
    {
      "cell_type": "code",
      "execution_count": null,
      "metadata": {
        "id": "NcOEW-wuvNC1"
      },
      "outputs": [],
      "source": [
        "test_generator.class_indices\n",
        "predictions = best_model.predict(test_generator, verbose=0)"
      ]
    },
    {
      "cell_type": "code",
      "execution_count": null,
      "metadata": {
        "id": "vPvH6SisvxvC"
      },
      "outputs": [],
      "source": [
        "def plot_confusion_matrix(cm, classes,\n",
        "                          normalize=False,\n",
        "                          title='Confutsion Matrix',\n",
        "                          cmap=plt.cm.Blues):\n",
        "  \"\"\"\n",
        "  This function prints and plots the confusion matrix.\n",
        "  Normalization can be applied by setting 'normalized=True'.\n",
        "  \"\"\"\n",
        "  plt.imshow(cm, interpolation='nearest', cmap=cmap)\n",
        "  plt.tittle=(title)\n",
        "  plt.colorbar()\n",
        "  tick_marks = np.arange(len(classes))\n",
        "  plt.xticks(tick_marks, classes, rotation=45)\n",
        "  plt.yticks(tick_marks, classes)\n",
        "\n",
        "  if normalize:\n",
        "    cm = cm.astype('float') / cm.sum(axis=1)[:, np.newaxis]\n",
        "    print(\"Normalized confusion matrix\")\n",
        "  else:\n",
        "    print(\"Confusion matrix without normalization\")\n",
        "  print(cm)\n",
        "\n",
        "  thresh = cm.max() / 2.\n",
        "  for i, j in itertools.product(range(cm.shape[0]), range(cm.shape[1])):\n",
        "    plt.text(j, i, cm[i,j],\n",
        "             horizontalalignment=\"center\",\n",
        "             color=\"white\" if cm[i, j] > thresh else \"black\")\n",
        "\n",
        "  plt.tight_layout()\n",
        "  plt.ylabel('True label')\n",
        "  plt.xlabel('Predicted label')"
      ]
    },
    {
      "cell_type": "code",
      "execution_count": null,
      "metadata": {
        "colab": {
          "base_uri": "https://localhost:8080/",
          "height": 575
        },
        "id": "sQdbK1bXymKW",
        "outputId": "91c88152-c150-41f9-aed7-062ad6ff7d99"
      },
      "outputs": [
        {
          "output_type": "stream",
          "name": "stdout",
          "text": [
            "Confusion matrix without normalization\n",
            "[[18  1  0]\n",
            " [ 0 19  0]\n",
            " [ 0  3 16]]\n"
          ]
        },
        {
          "output_type": "display_data",
          "data": {
            "text/plain": [
              "<Figure size 640x480 with 2 Axes>"
            ],
            "image/png": "[encoded data removed]"
          },
          "metadata": {}
        }
      ],
      "source": [
        "import numpy as np\n",
        "from sklearn.metrics import confusion_matrix\n",
        "import itertools\n",
        "import matplotlib.pyplot as plt\n",
        "\n",
        "cm = confusion_matrix(test_labels, predictions.argmax(axis=1))\n",
        "\n",
        "cm_plot_labels = ['lubang', 'noda', 'tidak-cacat']\n",
        "plot_confusion_matrix(cm, cm_plot_labels, title='Confusion Matrix')"
      ]
    },
    {
      "cell_type": "markdown",
      "source": [
        "**MENGHITUNG AKURASI**"
      ],
      "metadata": {
        "id": "7nClkOHM-u6A"
      }
    },
    {
      "cell_type": "code",
      "source": [
        "pred_labels = predictions.argmax(axis=1)\n",
        "\n",
        "# Menampilkan pred_labels\n",
        "print(pred_labels)"
      ],
      "metadata": {
        "id": "Zkhx_vCF6rPS",
        "colab": {
          "base_uri": "https://localhost:8080/"
        },
        "outputId": "79507fc2-25b1-481a-9c60-607c283b91f1"
      },
      "execution_count": null,
      "outputs": [
        {
          "output_type": "stream",
          "name": "stdout",
          "text": [
            "[0 0 1 0 0 0 0 0 0 0 0 0 0 0 0 0 0 0 0 1 1 1 1 1 1 1 1 1 1 1 1 1 1 1 1 1 1\n",
            " 1 2 2 2 1 2 1 2 2 2 2 2 2 2 2 1 2 2 2 2]\n"
          ]
        }
      ]
    },
    {
      "cell_type": "code",
      "source": [
        "from sklearn.metrics import accuracy_score, classification_report\n",
        "\n",
        "# pred_labels: array label prediksi\n",
        "# test_labels: array label ground truth\n",
        "accuracy = accuracy_score(test_labels, pred_labels)\n",
        "\n",
        "# menghitung F1-score, recall dan precision\n",
        "report = classification_report(test_labels, pred_labels)\n",
        "\n",
        "print(\"Akurasi: {:.2f}%\".format(accuracy * 100))\n",
        "print(\"Classification Report:\\n\", report)"
      ],
      "metadata": {
        "id": "sDDG7KSa6rvb",
        "colab": {
          "base_uri": "https://localhost:8080/"
        },
        "outputId": "b3456fa9-b68d-424a-bba1-f28a90c43cc2"
      },
      "execution_count": null,
      "outputs": [
        {
          "output_type": "stream",
          "name": "stdout",
          "text": [
            "Akurasi: 92.98%\n",
            "Classification Report:\n",
            "               precision    recall  f1-score   support\n",
            "\n",
            "           0       1.00      0.95      0.97        19\n",
            "           1       0.83      1.00      0.90        19\n",
            "           2       1.00      0.84      0.91        19\n",
            "\n",
            "    accuracy                           0.93        57\n",
            "   macro avg       0.94      0.93      0.93        57\n",
            "weighted avg       0.94      0.93      0.93        57\n",
            "\n"
          ]
        }
      ]
    },
    {
      "cell_type": "markdown",
      "source": [
        "#Save model"
      ],
      "metadata": {
        "id": "NxAbakYwJnLk"
      }
    },
    {
      "cell_type": "code",
      "source": [
        "save_path = '/content/drive/MyDrive/Colab Notebooks/tugas-akhir/mobilenetv2-hyperparameter-otomatis/save-model/model1-3jan24.h5'\n",
        "best_model.save(save_path)"
      ],
      "metadata": {
        "id": "Zka-m6VaJohF",
        "colab": {
          "base_uri": "https://localhost:8080/"
        },
        "outputId": "17d7db96-cc92-436f-8181-21bd03acaa29"
      },
      "execution_count": null,
      "outputs": [
        {
          "output_type": "stream",
          "name": "stderr",
          "text": [
            "/usr/local/lib/python3.10/dist-packages/keras/src/engine/training.py:3103: UserWarning: You are saving your model as an HDF5 file via `model.save()`. This file format is considered legacy. We recommend using instead the native Keras format, e.g. `model.save('my_model.keras')`.\n",
            "  saving_api.save_model(\n"
          ]
        }
      ]
    },
    {
      "cell_type": "code",
      "source": [
        "from tensorflow import lite\n",
        "\n",
        "model_h5 = tf.keras.models.load_model(save_path)\n",
        "\n",
        "# Membuat konverter\n",
        "converter = lite.TFLiteConverter.from_keras_model(model_h5)\n",
        "\n",
        "# Mengonversi model\n",
        "tflite_model = converter.convert()\n",
        "\n",
        "# Menyimpan model\n",
        "with open('/content/drive/MyDrive/Colab Notebooks/tugas-akhir/mobilenetv2-hyperparameter-otomatis/save-model/model1-3jan24.tflite', 'wb') as f:\n",
        "    f.write(tflite_model)"
      ],
      "metadata": {
        "id": "GX3oCbqiLNs5"
      },
      "execution_count": null,
      "outputs": []
    }
  ],
  "metadata": {
    "accelerator": "GPU",
    "colab": {
      "provenance": [],
      "gpuType": "T4",
      "toc_visible": true
    },
    "kernelspec": {
      "display_name": "Python 3",
      "name": "python3"
    },
    "language_info": {
      "name": "python"
    }
  },
  "nbformat": 4,
  "nbformat_minor": 0
}